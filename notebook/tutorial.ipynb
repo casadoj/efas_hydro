{
 "cells": [
  {
   "cell_type": "code",
   "execution_count": 1,
   "id": "5309e016-0cce-4af4-8b05-900a228b4516",
   "metadata": {},
   "outputs": [],
   "source": [
    "from datetime import datetime\n",
    "from tqdm.auto import tqdm\n",
    "\n",
    "from efashydro.stations import get_stations\n",
    "from efashydro.timeseries import get_timeseries"
   ]
  },
  {
   "cell_type": "code",
   "execution_count": 2,
   "id": "57e059f4-2607-4c35-a1f7-090a0f586e27",
   "metadata": {},
   "outputs": [],
   "source": [
    "# HDMS API configuration\n",
    "USER = 'jesus.casado-rodriguez'\n",
    "PASSWORD = '#Urr13()u#'"
   ]
  },
  {
   "cell_type": "markdown",
   "id": "1da5792a-16b1-42ca-a0a2-bb1d5a13a088",
   "metadata": {},
   "source": [
    "## `get_stations()`\n",
    "\n",
    "We will find all the stations in the database that are reservoirs in Portugal."
   ]
  },
  {
   "cell_type": "code",
   "execution_count": 3,
   "id": "00fb4f47-8e08-46ff-9ce0-5412e7848e9b",
   "metadata": {},
   "outputs": [
    {
     "name": "stdout",
     "output_type": "stream",
     "text": [
      "Metadata for 20 stations were extracted\n"
     ]
    }
   ],
   "source": [
    "stations = get_stations(\n",
    "    user=USER, \n",
    "    password=PASSWORD, \n",
    "    kind='reservoir',\n",
    "    country_id='PT' # country code for Portugal\n",
    ")\n",
    "print(f'Metadata for {len(stations)} stations were extracted')"
   ]
  },
  {
   "cell_type": "markdown",
   "id": "348c74ff-19cf-42a3-99b2-f9e3db9c0469",
   "metadata": {},
   "source": [
    "## `get_timeseries()`\n",
    "\n",
    "For the reservoirs extracted above, we will retrieve all the available time series."
   ]
  },
  {
   "cell_type": "code",
   "execution_count": null,
   "id": "a2e260f2-bbfa-4e76-ac1a-70cb05306de5",
   "metadata": {},
   "outputs": [
    {
     "data": {
      "application/vnd.jupyter.widget-view+json": {
       "model_id": "34497ad50aed47e0a87c823c9fd2a121",
       "version_major": 2,
       "version_minor": 0
      },
      "text/plain": [
       "Stations:   0%|          | 0/20 [00:00<?, ?it/s]"
      ]
     },
     "metadata": {},
     "output_type": "display_data"
    },
    {
     "data": {
      "application/vnd.jupyter.widget-view+json": {
       "model_id": "bb7ded5565754d51bc8c53eaa7c2a22e",
       "version_major": 2,
       "version_minor": 0
      },
      "text/plain": [
       "Variables:   0%|          | 0/4 [00:00<?, ?it/s]"
      ]
     },
     "metadata": {},
     "output_type": "display_data"
    }
   ],
   "source": [
    "time_series = {}\n",
    "for efas_id in tqdm(stations.index, desc='Stations'):\n",
    "    time_series[efas_id] = get_timeseries(\n",
    "        user=USER,\n",
    "        password=PASSWORD,\n",
    "        station_id=efas_id,\n",
    "        service='nhoperational24hw', # historical operational daily values\n",
    "        variable=['I', 'O', 'R', 'V'], # inflow, outflow, reservoir level and storage \n",
    "    )"
   ]
  },
  {
   "cell_type": "code",
   "execution_count": null,
   "id": "9187093e-b70c-4291-9ca1-c1a46bb19ab1",
   "metadata": {},
   "outputs": [],
   "source": []
  }
 ],
 "metadata": {
  "kernelspec": {
   "display_name": "Python 3 (ipykernel)",
   "language": "python",
   "name": "python3"
  },
  "language_info": {
   "codemirror_mode": {
    "name": "ipython",
    "version": 3
   },
   "file_extension": ".py",
   "mimetype": "text/x-python",
   "name": "python",
   "nbconvert_exporter": "python",
   "pygments_lexer": "ipython3",
   "version": "3.9.13"
  }
 },
 "nbformat": 4,
 "nbformat_minor": 5
}
