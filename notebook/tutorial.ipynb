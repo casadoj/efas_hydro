{
 "cells": [
  {
   "cell_type": "markdown",
   "id": "15d97b16-a983-423c-8281-d626c750b23c",
   "metadata": {},
   "source": [
    "# How to extract information from the database using `EFAS-hydro`?\n",
    "\n",
    "In this tutorial we will extract information from the Hydrologial Data Management Service regarding reservoirs in Portugal. To be able to run it, you need to install `efashydro` in your environment, and you need to fill in the `USER` and `PASSWORD` below with your credentials."
   ]
  },
  {
   "cell_type": "code",
   "execution_count": 1,
   "id": "5309e016-0cce-4af4-8b05-900a228b4516",
   "metadata": {},
   "outputs": [],
   "source": [
    "from tqdm.auto import tqdm\n",
    "from efashydro.stations import get_stations\n",
    "from efashydro.timeseries import get_timeseries"
   ]
  },
  {
   "cell_type": "code",
   "execution_count": 2,
   "id": "57e059f4-2607-4c35-a1f7-090a0f586e27",
   "metadata": {},
   "outputs": [],
   "source": [
    "# HDMS API configuration\n",
    "USER = 'xxxxxx'\n",
    "PASSWORD = 'yyyyyy'"
   ]
  },
  {
   "cell_type": "markdown",
   "id": "1da5792a-16b1-42ca-a0a2-bb1d5a13a088",
   "metadata": {},
   "source": [
    "## `get_stations()`\n",
    "\n",
    "To find out the available reservoirs in Portugal we will use the function `get_stations`. Apart from your API credentials, you can introduce several filters to narrow the extraction. In the example below we will only filter by type of station (`kind=reservoir`) and by country (`country_id=PT`)`.`"
   ]
  },
  {
   "cell_type": "code",
   "execution_count": 3,
   "id": "00fb4f47-8e08-46ff-9ce0-5412e7848e9b",
   "metadata": {},
   "outputs": [
    {
     "name": "stdout",
     "output_type": "stream",
     "text": [
      "Metadata for 20 stations were extracted\n"
     ]
    }
   ],
   "source": [
    "stations = get_stations(\n",
    "    user=USER, \n",
    "    password=PASSWORD, \n",
    "    kind='reservoir',\n",
    "    country_id='PT' # country code for Portugal\n",
    ")\n",
    "print(f'Metadata for {len(stations)} stations were extracted')"
   ]
  },
  {
   "cell_type": "markdown",
   "id": "6eb51043-ca90-4855-970a-dc7c062be203",
   "metadata": {},
   "source": [
    "The result is a `geopandas.GeoDataFrame` of stations and their metadata. As a `geopandas` object, the stations have associated their geographical location and can be exported to a shapefile to be used in a GIS software."
   ]
  },
  {
   "cell_type": "markdown",
   "id": "348c74ff-19cf-42a3-99b2-f9e3db9c0469",
   "metadata": {},
   "source": [
    "## `get_timeseries()`\n",
    "\n",
    "Now that we know the Portuguese reservoirs in the database, we can iteratively extract the available time series using the function `get_timeseries`. \n",
    "\n",
    "This function can only extract the time series for a station and a data service at a time, but multiple variables. In the example below, we iterate over the stations and extract the daily historical time series (`service='nhoperationa24hw'`) and all the variables related to reservoirs (`variable=['I', 'O', 'R', 'V']`)."
   ]
  },
  {
   "cell_type": "code",
   "execution_count": 5,
   "id": "a2e260f2-bbfa-4e76-ac1a-70cb05306de5",
   "metadata": {},
   "outputs": [
    {
     "data": {
      "application/vnd.jupyter.widget-view+json": {
       "model_id": "34497ad50aed47e0a87c823c9fd2a121",
       "version_major": 2,
       "version_minor": 0
      },
      "text/plain": [
       "Stations:   0%|          | 0/20 [00:00<?, ?it/s]"
      ]
     },
     "metadata": {},
     "output_type": "display_data"
    },
    {
     "data": {
      "application/vnd.jupyter.widget-view+json": {
       "model_id": "bb7ded5565754d51bc8c53eaa7c2a22e",
       "version_major": 2,
       "version_minor": 0
      },
      "text/plain": [
       "Variables:   0%|          | 0/4 [00:00<?, ?it/s]"
      ]
     },
     "metadata": {},
     "output_type": "display_data"
    },
    {
     "data": {
      "application/vnd.jupyter.widget-view+json": {
       "model_id": "9cf42206b67a4127acbaed49baa8152b",
       "version_major": 2,
       "version_minor": 0
      },
      "text/plain": [
       "Variables:   0%|          | 0/4 [00:00<?, ?it/s]"
      ]
     },
     "metadata": {},
     "output_type": "display_data"
    },
    {
     "data": {
      "application/vnd.jupyter.widget-view+json": {
       "model_id": "3cef9bae976041f58a45771f431c7491",
       "version_major": 2,
       "version_minor": 0
      },
      "text/plain": [
       "Variables:   0%|          | 0/4 [00:00<?, ?it/s]"
      ]
     },
     "metadata": {},
     "output_type": "display_data"
    },
    {
     "data": {
      "application/vnd.jupyter.widget-view+json": {
       "model_id": "ea14c6c69d054b9c8ace0e70277ea665",
       "version_major": 2,
       "version_minor": 0
      },
      "text/plain": [
       "Variables:   0%|          | 0/4 [00:00<?, ?it/s]"
      ]
     },
     "metadata": {},
     "output_type": "display_data"
    },
    {
     "data": {
      "application/vnd.jupyter.widget-view+json": {
       "model_id": "c58617b276f34a43965cb31f3e01a5ec",
       "version_major": 2,
       "version_minor": 0
      },
      "text/plain": [
       "Variables:   0%|          | 0/4 [00:00<?, ?it/s]"
      ]
     },
     "metadata": {},
     "output_type": "display_data"
    },
    {
     "data": {
      "application/vnd.jupyter.widget-view+json": {
       "model_id": "0b15231e0b5d400aa6d3ea878e926c7d",
       "version_major": 2,
       "version_minor": 0
      },
      "text/plain": [
       "Variables:   0%|          | 0/4 [00:00<?, ?it/s]"
      ]
     },
     "metadata": {},
     "output_type": "display_data"
    },
    {
     "data": {
      "application/vnd.jupyter.widget-view+json": {
       "model_id": "a8a4ad4208a44cc7bbb84b5ebfc5c7ac",
       "version_major": 2,
       "version_minor": 0
      },
      "text/plain": [
       "Variables:   0%|          | 0/4 [00:00<?, ?it/s]"
      ]
     },
     "metadata": {},
     "output_type": "display_data"
    },
    {
     "data": {
      "application/vnd.jupyter.widget-view+json": {
       "model_id": "c1f9c18340384b39b563a65f06473cb3",
       "version_major": 2,
       "version_minor": 0
      },
      "text/plain": [
       "Variables:   0%|          | 0/4 [00:00<?, ?it/s]"
      ]
     },
     "metadata": {},
     "output_type": "display_data"
    },
    {
     "data": {
      "application/vnd.jupyter.widget-view+json": {
       "model_id": "c37dd7da8c994109b27311da834478bc",
       "version_major": 2,
       "version_minor": 0
      },
      "text/plain": [
       "Variables:   0%|          | 0/4 [00:00<?, ?it/s]"
      ]
     },
     "metadata": {},
     "output_type": "display_data"
    },
    {
     "data": {
      "application/vnd.jupyter.widget-view+json": {
       "model_id": "b4047d4a93314a2ca9080067933e06f9",
       "version_major": 2,
       "version_minor": 0
      },
      "text/plain": [
       "Variables:   0%|          | 0/4 [00:00<?, ?it/s]"
      ]
     },
     "metadata": {},
     "output_type": "display_data"
    },
    {
     "data": {
      "application/vnd.jupyter.widget-view+json": {
       "model_id": "831ae5ddaab0432986a7a1ff18d905ef",
       "version_major": 2,
       "version_minor": 0
      },
      "text/plain": [
       "Variables:   0%|          | 0/4 [00:00<?, ?it/s]"
      ]
     },
     "metadata": {},
     "output_type": "display_data"
    },
    {
     "data": {
      "application/vnd.jupyter.widget-view+json": {
       "model_id": "7d86040d52ae413f92b14b505bc6bdbf",
       "version_major": 2,
       "version_minor": 0
      },
      "text/plain": [
       "Variables:   0%|          | 0/4 [00:00<?, ?it/s]"
      ]
     },
     "metadata": {},
     "output_type": "display_data"
    },
    {
     "data": {
      "application/vnd.jupyter.widget-view+json": {
       "model_id": "434c51f9d85e4e64bdf4146a68a882b7",
       "version_major": 2,
       "version_minor": 0
      },
      "text/plain": [
       "Variables:   0%|          | 0/4 [00:00<?, ?it/s]"
      ]
     },
     "metadata": {},
     "output_type": "display_data"
    },
    {
     "data": {
      "application/vnd.jupyter.widget-view+json": {
       "model_id": "54d0093c42d14d6f9acc78c388560ad5",
       "version_major": 2,
       "version_minor": 0
      },
      "text/plain": [
       "Variables:   0%|          | 0/4 [00:00<?, ?it/s]"
      ]
     },
     "metadata": {},
     "output_type": "display_data"
    },
    {
     "data": {
      "application/vnd.jupyter.widget-view+json": {
       "model_id": "785d8b7ace4b4a0db5c5e18ebec57be5",
       "version_major": 2,
       "version_minor": 0
      },
      "text/plain": [
       "Variables:   0%|          | 0/4 [00:00<?, ?it/s]"
      ]
     },
     "metadata": {},
     "output_type": "display_data"
    },
    {
     "data": {
      "application/vnd.jupyter.widget-view+json": {
       "model_id": "b37e3459cde1401a903b05e8d6fb2ae7",
       "version_major": 2,
       "version_minor": 0
      },
      "text/plain": [
       "Variables:   0%|          | 0/4 [00:00<?, ?it/s]"
      ]
     },
     "metadata": {},
     "output_type": "display_data"
    },
    {
     "data": {
      "application/vnd.jupyter.widget-view+json": {
       "model_id": "08cdee364f644454a5668b00434f6831",
       "version_major": 2,
       "version_minor": 0
      },
      "text/plain": [
       "Variables:   0%|          | 0/4 [00:00<?, ?it/s]"
      ]
     },
     "metadata": {},
     "output_type": "display_data"
    },
    {
     "data": {
      "application/vnd.jupyter.widget-view+json": {
       "model_id": "a1ca2f7813d242c28bfdae90809c5652",
       "version_major": 2,
       "version_minor": 0
      },
      "text/plain": [
       "Variables:   0%|          | 0/4 [00:00<?, ?it/s]"
      ]
     },
     "metadata": {},
     "output_type": "display_data"
    },
    {
     "data": {
      "application/vnd.jupyter.widget-view+json": {
       "model_id": "7eee8d078d1c4712b71b22f1ddf07241",
       "version_major": 2,
       "version_minor": 0
      },
      "text/plain": [
       "Variables:   0%|          | 0/4 [00:00<?, ?it/s]"
      ]
     },
     "metadata": {},
     "output_type": "display_data"
    },
    {
     "data": {
      "application/vnd.jupyter.widget-view+json": {
       "model_id": "b6e974462fe94d059d8cbf17d410d224",
       "version_major": 2,
       "version_minor": 0
      },
      "text/plain": [
       "Variables:   0%|          | 0/4 [00:00<?, ?it/s]"
      ]
     },
     "metadata": {},
     "output_type": "display_data"
    }
   ],
   "source": [
    "time_series = {}\n",
    "for efas_id in tqdm(stations.index, desc='Stations'):\n",
    "    time_series[efas_id] = get_timeseries(\n",
    "        user=USER,\n",
    "        password=PASSWORD,\n",
    "        station_id=efas_id,\n",
    "        service='nhoperational24hw', # historical operational daily values\n",
    "        variable=['I', 'O', 'R', 'V'], # inflow, outflow, reservoir level and storage \n",
    "    )"
   ]
  },
  {
   "cell_type": "markdown",
   "id": "78b9692e-f06c-470b-b7e4-7b619cb9db5c",
   "metadata": {},
   "source": [
    "The result is a dictionary of `pandas.DataFrames`, where every key is the ID of a station and the value the time series available for that station. These `pandas.DataFrames` could be saved as CSV files, for instance."
   ]
  }
 ],
 "metadata": {
  "kernelspec": {
   "display_name": "Python 3 (ipykernel)",
   "language": "python",
   "name": "python3"
  },
  "language_info": {
   "codemirror_mode": {
    "name": "ipython",
    "version": 3
   },
   "file_extension": ".py",
   "mimetype": "text/x-python",
   "name": "python",
   "nbconvert_exporter": "python",
   "pygments_lexer": "ipython3",
   "version": "3.9.13"
  }
 },
 "nbformat": 4,
 "nbformat_minor": 5
}
